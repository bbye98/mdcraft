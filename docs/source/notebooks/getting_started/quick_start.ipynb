{
 "cells": [
  {
   "cell_type": "markdown",
   "metadata": {},
   "source": [
    "# Quick Start\n",
    "\n",
    "MDCraft was developed to be an all-encompassing tool that helps simplify the entire research workflow, from setting up and running molecular dynamics simulations to analyzing, modeling, and plotting data from the trajectories for publication in scientific journals. \n",
    "\n",
    "Of special note, MDCraft offers unprecedented flexibility in how data analysis can be carried out. It not only has high-level analysis classes in the `analysis` submodule with carefully thought-out selections of keyword-only arguments to control exactly what is calculated, but also provides direct low-level access to the optimized algorithms used in the analysis classes in the `algorithm` submodule for more seasoned programmers.\n",
    "\n",
    "The following section will largely focus on the `analysis`, `openmm`, and `plot` submodules since they are the most likely to be used by end users.\n",
    "\n",
    "## `openmm` submodule\n",
    "\n",
    "The `openmm` submodule contains helper functions for setting up OpenMM simulations. Notably, it enables coarse-grained simulations with reduced units in a simulation toolkit largely meant for atomistic simulations with real units.\n",
    "\n",
    "The following code snippet sets up and simulates a simple charged Lennard-Jones fluid without the need for any external topology or force field files."
   ]
  },
  {
   "cell_type": "code",
   "execution_count": null,
   "metadata": {
    "tags": [
     "remove-cell"
    ]
   },
   "outputs": [],
   "source": [
    "import sys\n",
    "\n",
    "sys.path.insert(0, str(globals()[\"_dh\"][0].parents[3] / \"src\"))"
   ]
  },
  {
   "cell_type": "code",
   "execution_count": null,
   "metadata": {
    "tags": [
     "hide-output"
    ]
   },
   "outputs": [],
   "source": [
    "import sys\n",
    "\n",
    "from mdcraft.openmm.pair import lj_coul, ljts\n",
    "from mdcraft.openmm.reporter import NetCDFReporter\n",
    "from mdcraft.openmm.system import register_particles\n",
    "from mdcraft.openmm.topology import create_atoms\n",
    "from mdcraft.openmm.unit import get_lj_scale_factors\n",
    "import numpy as np\n",
    "import openmm\n",
    "from openmm import app, unit\n",
    "\n",
    "# Define constants and parameters\n",
    "m = 39.948 * unit.amu\n",
    "sigma = 3.405 * unit.angstrom\n",
    "epsilon = 119.8 * unit.kelvin * unit.BOLTZMANN_CONSTANT_kB\n",
    "N = 10_000\n",
    "rho_reduced = 0.8\n",
    "T = 300 * unit.kelvin\n",
    "varepsilon_r = 78\n",
    "dt_reduced = 0.0025\n",
    "every = 100\n",
    "timesteps = 2_000\n",
    "\n",
    "# Get scale factors for reduced Lennard-Jones units\n",
    "scales = get_lj_scale_factors({\n",
    "    \"energy\": epsilon,\n",
    "    \"length\": sigma,\n",
    "    \"mass\": m\n",
    "})\n",
    "\n",
    "# Determine system dimensions\n",
    "dimensions = (N * scales[\"length\"] ** 3 / rho_reduced) ** (1 / 3) * np.ones(3)\n",
    "\n",
    "# Initialize simulation system and topology\n",
    "system = openmm.System()\n",
    "system.setDefaultPeriodicBoxVectors(*(dimensions * np.diag(np.ones(3))))\n",
    "topology = app.Topology()\n",
    "topology.setUnitCellDimensions(dimensions)\n",
    "\n",
    "# Set up excluded volume (Lennard-Jones) and electrostatic (Coulomb) pair potentials\n",
    "cutoff = 2.5 * scales[\"length\"]\n",
    "pair_lj_cut = ljts(cutoff, shift=False)\n",
    "pair_coul = lj_coul(cutoff)\n",
    "system.addForce(pair_lj_cut)\n",
    "system.addForce(pair_coul)\n",
    "\n",
    "# Register particles to pair potentials\n",
    "for q, name, element in zip(\n",
    "        (-1, 1),\n",
    "        (\"ANI\", \"CAT\"), \n",
    "        (app.Element.getBySymbol(e) for e in (\"Cl\", \"Na\"))  # arbitrary\n",
    "    ):\n",
    "    register_particles(\n",
    "        system, \n",
    "        topology, \n",
    "        N // 2, \n",
    "        scales[\"mass\"],\n",
    "        element=element, \n",
    "        name=name, \n",
    "        nbforce=pair_coul, \n",
    "        charge=q / np.sqrt(varepsilon_r), \n",
    "        cnbforces={pair_lj_cut: (scales[\"length\"], scales[\"molar_energy\"])}\n",
    "    )\n",
    "\n",
    "# Generate initial particle positions\n",
    "positions = create_atoms(dimensions, N)\n",
    "\n",
    "# Set up simulation\n",
    "dt = dt_reduced * scales[\"time\"]\n",
    "friction = 1 / scales[\"time\"]\n",
    "platform = openmm.Platform.getPlatformByName(\"CPU\")\n",
    "integrator = openmm.LangevinIntegrator(T, friction, dt)\n",
    "simulation = app.Simulation(topology, system, integrator, platform)\n",
    "context = simulation.context\n",
    "context.setPositions(positions)\n",
    "\n",
    "# Minimize energy\n",
    "simulation.minimizeEnergy()\n",
    "\n",
    "# Initialize velocities using Maxwell-Boltzmann distribution\n",
    "context.setVelocitiesToTemperature(T)\n",
    "\n",
    "# Write topology file\n",
    "with open(\"topology.cif\", \"w\") as f:\n",
    "    app.PDBxFile.writeFile(\n",
    "        topology, \n",
    "        context.getState(getPositions=True).getPositions(asNumpy=True), \n",
    "        f, \n",
    "        keepIds=True\n",
    "    )\n",
    "\n",
    "# Register topology and state data reporters\n",
    "simulation.reporters.append(NetCDFReporter(\"trajectory.nc\", every))\n",
    "simulation.reporters.append(\n",
    "    app.StateDataReporter(\n",
    "        sys.stdout, \n",
    "        reportInterval=every, \n",
    "        step=True, \n",
    "        temperature=True,\n",
    "        volume=True, \n",
    "        potentialEnergy=True, \n",
    "        kineticEnergy=True,\n",
    "        totalEnergy=True, \n",
    "        remainingTime=True, \n",
    "        speed=True,\n",
    "        totalSteps=timesteps\n",
    "    )\n",
    ")\n",
    "\n",
    "# Run simulation\n",
    "simulation.step(timesteps)"
   ]
  },
  {
   "cell_type": "markdown",
   "metadata": {},
   "source": [
    "## `analysis` submodule\n",
    "\n",
    "Now that we have the `topology.cif` and `trajectory.nc` files from the simulation, we can perform data analysis to get structural and dynamic properties that we are interested in, like density profiles, structure factors, and self-diffusion coefficients.\n",
    "\n",
    "As an illustrative example, the following code snippet first reads the topology and trajectory files using MDAnalysis and then calculates the radial distribution functions for the unique species pairs."
   ]
  },
  {
   "cell_type": "code",
   "execution_count": null,
   "metadata": {
    "tags": [
     "hide-output"
    ]
   },
   "outputs": [],
   "source": [
    "from itertools import combinations_with_replacement\n",
    "\n",
    "import MDAnalysis as mda\n",
    "from mdcraft.analysis.structure import RadialDistributionFunction\n",
    "\n",
    "# Load topology and trajectory\n",
    "universe = mda.Universe(app.PDBxFile(\"topology.cif\"), \"trajectory.nc\")\n",
    "\n",
    "# Select groups containing particles of the same species\n",
    "groups = [universe.select_atoms(f\"name {name}\") for name in (\"ANI\", \"CAT\")]\n",
    "\n",
    "# Determine unique species pairs\n",
    "pairs = list(combinations_with_replacement(range(len(groups)), 2))\n",
    "\n",
    "# Compute radial distribution functions\n",
    "rdfs = []\n",
    "for i, j in pairs:\n",
    "    rdfs.append(\n",
    "        RadialDistributionFunction(\n",
    "            groups[i], \n",
    "            groups[j], \n",
    "            1_000, \n",
    "            (0, 5 * scales[\"length\"].value_in_unit(unit.angstrom)),\n",
    "            exclusion=(1, 1)\n",
    "        ).run(start=timesteps // (2 * every))\n",
    "    )"
   ]
  },
  {
   "cell_type": "markdown",
   "metadata": {},
   "source": [
    "## `plot` submodule\n",
    "\n",
    "Finally, we can visualize the results from the data analysis in clean, aesthetic, and publication-ready figures using Matplotlib.\n",
    "\n",
    "The following code snippet plots the radial distribution functions computed in the previous step according to the ACS journal guidelines."
   ]
  },
  {
   "cell_type": "code",
   "execution_count": null,
   "metadata": {},
   "outputs": [],
   "source": [
    "import matplotlib.pyplot as plt\n",
    "from mdcraft.plot.rcparam import update\n",
    "\n",
    "# Update Matplotlib rcParams to adhere to the ACS journal guidelines\n",
    "update(\"acs\", font_scaling=5 / 4, size_scaling=3 / 2)\n",
    "\n",
    "# Plot and display radial distribution functions\n",
    "labels = [f\"$g_{{{chr(43 + 2 * i)}{chr(43 + 2 * j)}}}(r)$\" for i, j in pairs]\n",
    "_, ax = plt.subplots()\n",
    "for rdf, label in zip(rdfs, labels):\n",
    "    ax.plot(\n",
    "        rdf.results.bins * unit.angstrom / scales[\"length\"], \n",
    "        rdf.results.rdf,\n",
    "        label=label\n",
    "    )\n",
    "ax.legend()\n",
    "ax.set_xlabel(\"$r/\\sigma$\")\n",
    "ax.set_ylabel(\"$g_{ij}(r)$\")\n",
    "ax.text(-0.2, 0.959, \" \", transform=ax.transAxes)\n",
    "plt.show()"
   ]
  },
  {
   "cell_type": "code",
   "execution_count": null,
   "metadata": {
    "tags": [
     "remove-cell"
    ]
   },
   "outputs": [],
   "source": [
    "import os\n",
    "\n",
    "os.remove(\"topology.cif\")\n",
    "os.remove(\"trajectory.nc\")"
   ]
  }
 ],
 "metadata": {
  "kernelspec": {
   "display_name": "base",
   "language": "python",
   "name": "python3"
  },
  "language_info": {
   "codemirror_mode": {
    "name": "ipython",
    "version": 3
   },
   "file_extension": ".py",
   "mimetype": "text/x-python",
   "name": "python",
   "nbconvert_exporter": "python",
   "pygments_lexer": "ipython3",
   "version": "3.1.undefined"
  }
 },
 "nbformat": 4,
 "nbformat_minor": 2
}
