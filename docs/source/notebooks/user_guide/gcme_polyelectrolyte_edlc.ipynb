{
 "cells": [
  {
   "cell_type": "markdown",
   "metadata": {},
   "source": [
    "# Simulating a polyanion--counterion--solvent electric double-layer capactor using the Gaussian core model with smeared electrostatics\n",
    "\n",
    "This guide contains a complete example for simulating a salt-free polyelectrolyte supercapactor with perfectly conducting surfaces using the Gaussian core model with smeared electrostatics (GCMe) and evaluating the number and charge density profiles.\n",
    "\n",
    "## Parameters\n",
    "\n",
    "The system is simulated at a temperature of $300\\,\\mathrm{K}$ and contains a total of $N=96,000$ particles at a number density of $\\rho=2.5d^{-3}$, where $d$ is the particle size. With a polyanion ion fraction of $x_\\mathrm{p}$, there are $x_\\mathrm{p}N$ polyanion monomers, $x_\\mathrm{p}N$ counterions, and $(1-2x_\\mathrm{p})N$ solvent particles. The polyanions have chain lengths of $N_\\mathrm{p}=60$ and have connectivity modeled by harmonic bonds with an equilibrium bond length of $b=0.8d$ and a force constant of $k=100k_\\mathrm{B}T/d^2$, where $k_\\mathrm{B}$ is the Boltzmann constant.\n",
    "\n",
    "## See also\n",
    "\n",
    "For more information on GCMe or similar simulations with other parameters, like different ion fractions or nonmetal surfaces, check out [our GCMe methodology journal article with illustrative examples](https://arxiv.org/abs/2403.08148) and the associated [source code repository](https://github.com/bbye98/gcme).\n",
    "\n",
    "## Example Python script\n",
    "\n",
    "### Settings and variables\n",
    "\n",
    "The following code cell sets up the logging format and defines constants, such as the fundamental quantities (length $d$, mass $m$, energy $\\epsilon$), number of particles $N$, number density $\\rho$, relative permittivity $\\varepsilon_\\mathrm{r}$, etc., used in the simulation."
   ]
  },
  {
   "cell_type": "code",
   "execution_count": 1,
   "metadata": {},
   "outputs": [],
   "source": [
    "import logging\n",
    "\n",
    "from openmm import unit\n",
    "\n",
    "logging.basicConfig(\n",
    "    format=\"{asctime} | {levelname:^8s} | {message}\",\n",
    "    style=\"{\",\n",
    "    level=logging.INFO\n",
    ")\n",
    "\n",
    "size: unit.Quantity = 0.275 * unit.nanometer\n",
    "mass: unit.Quantity = 18.01528 * unit.amu\n",
    "inverse_kappa_md: float = 15.9835\n",
    "omega: float = 0.499\n",
    "\n",
    "N: int = 96_000\n",
    "temperature: unit.Quantity = 300.0 * unit.kelvin\n",
    "\n",
    "N_m: int = 4\n",
    "rho_md: float = 2.5\n",
    "varepsilon_r: float = 78.0\n",
    "N_p: int = 60\n",
    "x_p: float = 0.2\n",
    "b_md: float = 0.8\n",
    "k_md: float = 100.0"
   ]
  },
  {
   "cell_type": "markdown",
   "metadata": {},
   "source": [
    "### Scale factors for coarse-grained simulations\n",
    "\n",
    "To ensure consistency in scaling and units throughout the simulation, we first define the scale factors that will be used to convert between reduced simulation units and real units. This is accomplished by passing the fundamental quantities to the `mdcraft.openmm.unit.get_scale_factors` or `mdcraft.openmm.unit.get_lj_scale_factors` function. A `dict` containing the scale factors for molar energy $N_\\mathrm{A}\\epsilon$, time $\\tau=\\sqrt{md^2/\\epsilon}$, force $f=\\epsilon/d$, pressure $p=\\epsilon/d^3$, etc. is returned."
   ]
  },
  {
   "cell_type": "code",
   "execution_count": 2,
   "metadata": {},
   "outputs": [
    {
     "name": "stderr",
     "output_type": "stream",
     "text": [
      "/home/bye/miniconda3/envs/research/lib/python3.11/site-packages/tqdm/auto.py:21: TqdmWarning: IProgress not found. Please update jupyter and ipywidgets. See https://ipywidgets.readthedocs.io/en/stable/user_install.html\n",
      "  from .autonotebook import tqdm as notebook_tqdm\n",
      "2024-07-29 11:25:39,475 |   INFO   | Computed scaling factors for reducing physical quantities.\n",
      "  Fundamental quantities:\n",
      "    Molar energy: 2.4943387854459718 kJ/mol\n",
      "    Length: 0.5924695397587681 nm\n",
      "    Mass: 72.06112 Da\n"
     ]
    }
   ],
   "source": [
    "from mdcraft.openmm.unit import get_lj_scale_factors\n",
    "\n",
    "scales = get_lj_scale_factors(\n",
    "    {\n",
    "        \"energy\": (unit.BOLTZMANN_CONSTANT_kB * temperature)\n",
    "                   .in_units_of(unit.kilojoule),\n",
    "        \"length\": size * (N_m * rho_md) ** (1 / 3) if N_m > 1 else size,\n",
    "        \"mass\": mass * N_m\n",
    "    }\n",
    ")\n",
    "logging.info(\"Computed scaling factors for reducing physical quantities.\\n\"\n",
    "             \"  Fundamental quantities:\\n\"\n",
    "             f\"    Molar energy: {scales['molar_energy']}\\n\"\n",
    "             f\"    Length: {scales['length']}\\n\"\n",
    "             f\"    Mass: {scales['mass']}\")"
   ]
  },
  {
   "cell_type": "markdown",
   "metadata": {},
   "source": [
    "### Getting system dimensions\n",
    "\n",
    "We use the number density $\\rho$ specified previously to determine the system dimensions. \n",
    "\n",
    "We first get an estimate of the $x$- ($L_x$) and $y$-dimensions ($L_y$) by assuming that the $z$-dimension $L_z$ will be approximately $2.5\\times$ the $x$- and $y$-dimensions:\n",
    "\n",
    "\\begin{equation*}\n",
    "  L_x=L_y\\approx [N/(c_L\\rho)]^{1/3},\\quad c_L=2.5\n",
    "\\end{equation*}\n",
    "\n",
    "Then, we call the `mdcraft.openmm.topology.create_atoms` function to calculate system dimensions that will accomodate a infinitely repeating single-layer hexagonal close-packed (HCP) lattice in the $xy$-plane, which will serve as the surfaces in our simulation. The arguments required are, in order, the estimated $L_x$ and $L_y$ and $L_z=0$ (to ensure that a single HCP lattice layer is generated), the type of lattice, the spacing between surface particles in the HCP lattice, and permission to adjust the estimated $L_x$ and $L_y$ to satisfy the system periodicity. Finally, we determine $L_z$ using the number of particles $N$, the number density $\\rho$, and the actual $L_x$ and $L_y$:\n",
    "\n",
    "\\begin{equation*}\n",
    "  L_z=N/(\\rho L_xL_y)\n",
    "\\end{equation*}"
   ]
  },
  {
   "cell_type": "code",
   "execution_count": 3,
   "metadata": {},
   "outputs": [],
   "source": [
    "from mdcraft.openmm.topology import create_atoms\n",
    "import numpy as np\n",
    "\n",
    "rho = rho_md / scales[\"length\"] ** 3\n",
    "L = ((N / (2.5 * rho)) ** (1 / 3))\n",
    "positions_wall, dimensions = create_atoms(\n",
    "    L * np.array((1, 1, 0)),\n",
    "    lattice=\"hcp\",\n",
    "    length=scales[\"length\"] / 2,\n",
    "    flexible=True\n",
    ")\n",
    "dimensions[2] = N / (rho * dimensions[0] * dimensions[1])"
   ]
  },
  {
   "cell_type": "markdown",
   "metadata": {},
   "source": [
    "### Initializing the simulation system and topology\n",
    "\n",
    "We create an OpenMM simulation system and topology using the system dimensions we previously calculated."
   ]
  },
  {
   "cell_type": "code",
   "execution_count": 4,
   "metadata": {},
   "outputs": [
    {
     "name": "stderr",
     "output_type": "stream",
     "text": [
      "2024-07-29 11:25:39,492 |   INFO   | Created simulation system and topology with dimensions 14.811738493969203 nm x 14.879716499587463 nm x 36.23502900256258 nm.\n"
     ]
    }
   ],
   "source": [
    "import openmm\n",
    "from openmm import app\n",
    "\n",
    "system = openmm.System()\n",
    "system.setDefaultPeriodicBoxVectors(*(dimensions * np.diag(np.ones(3))))\n",
    "topology = app.Topology()\n",
    "topology.setUnitCellDimensions(dimensions)\n",
    "logging.info(\"Created simulation system and topology with \"\n",
    "             f\"dimensions {dimensions[0]} x {dimensions[1]} \"\n",
    "             f\"x {dimensions[2]}.\")"
   ]
  },
  {
   "cell_type": "markdown",
   "metadata": {},
   "source": [
    "### Registering pair and bond potentials to the simulation system\n",
    "\n",
    "We initialize and add the GCMe excluded volume and smeared electrostatic pair potentials and the harmonic bond potential to the simulation system.\n",
    "\n",
    "#### Excluded volume pair potential\n",
    "\n",
    "The excluded volume (Gaussian) potential has the form:\n",
    "\n",
    "\\begin{equation}\n",
    "  u_\\mathrm{Gauss}(r_{ij})=\\alpha_{ij}\\exp{\\left(-\\beta_{ij}r_{ij}^2\\right)},\\quad\\alpha_{ij}=A_{ij}\\left(\\frac{\\beta_{ij}}{\\pi}\\right)^{3/2},\\quad\\beta_{ij}=\\frac{3}{2\\sigma_{ij}^2},\\quad\\sigma_{ij}^2=\\sigma_i^2+\\sigma_j^2,\n",
    "\\end{equation}\n",
    "\n",
    "where $\\sigma_{i}$ is the mass smearing radius of particle $i$ and $A_{ij}$ is the repulsion parameter between particles $i$ and $j$.\n",
    "\n",
    "In the Gaussian potential, there are only two types of interactions that need to be accounted for: ion–ion and ion–surface. We use the same $A_{ij}$ but different $\\sigma_{ij}$ for these interactions since the surface particles have no mass smearing radius ($\\sigma_{\\mathrm{s},\\,i}=0~\\mathrm{nm}$) such that the mixing rule will give an effective interaction range of $\\sigma_{ij}=\\sigma_{i}$. This minimizes the surface thickness and accurately captures the image charge interactions.\n",
    "\n",
    "The other possible interactions (ion–image charge, surface–surface, surface–image charge, and image charge–image charge) need to be disabled. This is done by setting $\\alpha_{ij}=0~\\mathrm{kJ}$ for these pairs.\n",
    "\n",
    "After evaluating $\\alpha_{ij}$ and $\\beta_{ij}$, we can determine a cutoff for the exponentially-decaying Gaussian potential by finding the $r_{ij}$ value at which the strongest pair interaction energy drops below $0.001\\epsilon$.\n",
    "\n",
    "Finally, we initialize the `openmm.CustomNonbondedForce` object for the Gaussian potential using the `mdcraft.openmm.pair.gauss` function by specifing tabulated functions containing the precalculated $\\alpha_{ij}$ and $\\beta_{ij}$."
   ]
  },
  {
   "cell_type": "code",
   "execution_count": 5,
   "metadata": {},
   "outputs": [
    {
     "name": "stderr",
     "output_type": "stream",
     "text": [
      "/home/bye/miniconda3/envs/research/lib/python3.11/site-packages/openmm/unit/quantity.py:443: RuntimeWarning: divide by zero encountered in reciprocal\n",
      "  return Quantity(pow(self._value, exponent), pow(self.unit, exponent))\n",
      "/home/bye/miniconda3/envs/research/lib/python3.11/site-packages/openmm/unit/quantity.py:683: RuntimeWarning: invalid value encountered in multiply\n",
      "  value = factor * self._value # works for number, numpy.array, or vec3, e.g.\n"
     ]
    }
   ],
   "source": [
    "from mdcraft.openmm.pair import gauss\n",
    "from scipy import optimize\n",
    "\n",
    "# excluded volume interaction potential\n",
    "radius_nd = scales[\"length\"].value_in_unit(unit.nanometer) / 2\n",
    "sigmas_i_sq = (np.array((radius_nd, 0, radius_nd)) * unit.nanometer) ** 2\n",
    "sigmas_ij_sq = sigmas_i_sq + sigmas_i_sq[:, None]\n",
    "betas_ij = 3 / (2 * sigmas_ij_sq)\n",
    "alphas_ij_coefs = 1 + np.array(\n",
    "    (\n",
    "        (0, 0, -1),     # pp, pw, pi;\n",
    "        (0, -1, -1),    # wp, ww, wi;\n",
    "        (-1, -1, -1)    # ip, iw, ii\n",
    "    )\n",
    ")\n",
    "A_md = (N_m * inverse_kappa_md - 1) / (2 * omega * rho_md)\n",
    "A = A_md * scales[\"molar_energy\"] * scales[\"length\"] ** 3\n",
    "alphas_ij = alphas_ij_coefs * A * (betas_ij / np.pi) ** (3 / 2)\n",
    "alphas_ij[np.isnan(alphas_ij)] = 0 * unit.kilojoule_per_mole\n",
    "cutoff = optimize.fsolve(\n",
    "    lambda r: np.max(alphas_ij)\n",
    "              * np.exp(-np.min(betas_ij) * (r * unit.nanometer) ** 2)\n",
    "              / scales[\"molar_energy\"] - 1e-3,\n",
    "    scales[\"length\"].value_in_unit(unit.nanometer)\n",
    ")[0] * unit.nanometer\n",
    "pair_gauss = gauss(\n",
    "    cutoff,\n",
    "    mix=\"alpha12=alpha(type1,type2);beta12=beta(type1,type2);\",\n",
    "    per_params=(\"type\",),\n",
    "    tab_funcs={\"alpha\": alphas_ij, \"beta\": betas_ij}\n",
    ")"
   ]
  },
  {
   "cell_type": "markdown",
   "metadata": {},
   "source": [
    "#### Smeared electrostatic pair potential\n",
    "\n",
    "The smeared electrostatic potential has the form:\n",
    "\n",
    "\\begin{equation*}\n",
    "  u_\\mathrm{elec}(r_{ij})=\\frac{q_iq_j}{4\\pi\\varepsilon_0r_{ij}}\\mathrm{erf}(\\alpha_{ij}r_{ij}),\\quad\\alpha_{ij}=\\sqrt{\\frac{\\pi}{2a_{ij}^2}},\\quad a_{ij}^2=a_i^2+a_j^2,\n",
    "\\end{equation*}\n",
    "\n",
    "where $\\varepsilon_0$ is the vacuum permittivity and $a_i$ is the charge smearing radius of particle $i$.\n",
    "\n",
    "Here, there are only two unique interaction types: charge–charge and charge–surface. \"Charge\" can refer to either an ion or an image charge. Like before, the surface particles has no charge smearing radius ($a_{\\mathrm{s},\\,i}=0~\\mathrm{nm}$) so that potential differences, if necessary, can correctly be applied by giving surface particles charges.\n",
    "\n",
    "Finally, we initialize the `openmm.NonbondedForce` and `openmm.CustomNonbondedForce` objects for the smeared electrostatic potential using the `mdcraft.openmm.pair.coul_gauss` function by specifing tabulated functions containing the precalculated $a_{ij}$. The `openmm.CustomNonbondedForce` evaluates the electrostatic interactions before the cutoff in real space, and the `openmm.NonbondedForce` evaluates the electrostatic interactions after the cutoff in reciprocal space. "
   ]
  },
  {
   "cell_type": "code",
   "execution_count": 6,
   "metadata": {},
   "outputs": [],
   "source": [
    "from mdcraft.openmm.pair import coul_gauss\n",
    "\n",
    "# smeared electrostatic interaction potential\n",
    "as_i_sq = (np.array((1, 0)) * scales[\"length\"] / 2) ** 2\n",
    "as_ij = (as_i_sq + as_i_sq[:, None]) ** (1 / 2) # pp, pw; wp, ww\n",
    "pair_elec_real, pair_elec_fourier = coul_gauss(\n",
    "    cutoff,\n",
    "    mix=\"alpha12=alpha(type1,type2);\",\n",
    "    per_params=(\"type\",),\n",
    "    tab_funcs={\"alpha\": np.sqrt(np.pi / 2) / as_ij}\n",
    ")"
   ]
  },
  {
   "cell_type": "markdown",
   "metadata": {},
   "source": [
    "#### Harmonic bond potential\n",
    "\n",
    "The harmonic bond potential has the form:\n",
    "\n",
    "\\begin{equation*}\n",
    "    u_\\mathrm{harm}(r_{ij})=\\frac{1}{2}k_{ij}(r_{ij}-b_{ij})^2,\n",
    "\\end{equation*}\n",
    "\n",
    "where $k_{ij}$ is the force constant and $b_{ij}$ is the equilibrium bond length.\n",
    "\n",
    "For now, we just initialize the `openmm.HarmonicBondForce` object for the harmonic bond potential."
   ]
  },
  {
   "cell_type": "code",
   "execution_count": 7,
   "metadata": {},
   "outputs": [
    {
     "name": "stderr",
     "output_type": "stream",
     "text": [
      "2024-07-29 11:25:39,518 |   INFO   | Registered 4 pair potential(s) to the simulation.\n"
     ]
    }
   ],
   "source": [
    "# harmonic bond potential\n",
    "if x_p > 0:\n",
    "    b = b_md * scales[\"length\"]\n",
    "    k = k_md * scales[\"molar_energy\"] / scales[\"length\"] ** 2\n",
    "    bond_harm = openmm.HarmonicBondForce()\n",
    "\n",
    "system.addForce(pair_gauss)\n",
    "system.addForce(pair_elec_real)\n",
    "system.addForce(pair_elec_fourier)\n",
    "if x_p > 0:\n",
    "    system.addForce(bond_harm)\n",
    "logging.info(f\"Registered {system.getNumForces()} pair \"\n",
    "             \"potential(s) to the simulation.\")"
   ]
  },
  {
   "cell_type": "markdown",
   "metadata": {},
   "source": [
    "### Determining the identity and number of the different particles\n",
    "\n",
    "For easy reference later, we first determine the number of particles for each particle type. We also assign arbitrary but logical particle identities to the polyanion monomers, counterions, and solvent particles so that visualization tools like OVITO can distinguish between them."
   ]
  },
  {
   "cell_type": "code",
   "execution_count": 8,
   "metadata": {},
   "outputs": [],
   "source": [
    "# Assign arbitrary particle identities\n",
    "element_a = app.Element.getBySymbol(\"Cl\")\n",
    "element_c = app.Element.getBySymbol(\"Na\")\n",
    "element_s = app.Element.getBySymbol(\"Ar\")\n",
    "element_w = app.Element.getBySymbol(\"C\")\n",
    "\n",
    "# Determine the number of polyanions, counterions, and solvent particles\n",
    "M = round(x_p * N / N_p)    # Number of polyanions\n",
    "N_a = N_c = M * N_p         # Number of polyanion beads and/or counterions\n",
    "N_s = N - N_a - N_c         # Number of solvent particles\n",
    "if N_a != x_p * N:\n",
    "    emsg = (f\"The polyanion chain length {N_p=} is incompatible \"\n",
    "            f\"with the total number of particles {N=} and the \"\n",
    "            f\"polyanion number concentration {x_p=}.\")\n",
    "    raise RuntimeError(emsg)"
   ]
  },
  {
   "cell_type": "markdown",
   "metadata": {},
   "source": [
    "### Registering particles to the simulation system and force field\n",
    "\n",
    "Now, we register the particles to the simulation system and the potentials we created previously. ...\n",
    "\n",
    "Note that the smeared electrostatic potential does *not* have a relative permittivity $\\varepsilon_\\mathrm{r}$ term in the denominator. As such, we need to scale all charges by $1/\\sqrt{\\varepsilon_\\mathrm{r}}$ to get the correct electrostatic behavior."
   ]
  },
  {
   "cell_type": "code",
   "execution_count": 11,
   "metadata": {},
   "outputs": [
    {
     "name": "stderr",
     "output_type": "stream",
     "text": [
      "2024-07-29 11:26:44,323 |   INFO   | Registered 320 polyanion(s) with 60 monomer(s) to the force field.\n",
      "2024-07-29 11:26:44,499 |   INFO   | Registered 18,880 bond(s) to the force field.\n",
      "2024-07-29 11:26:44,902 |   INFO   | Registered 19,200 counterion(s) to the simulation.\n",
      "2024-07-29 11:26:45,394 |   INFO   | Registered 57,600 solvent particle(s) to the simulation.\n",
      "2024-07-29 11:26:45,413 |   INFO   | Registered 5,800 wall particles to the force field.\n",
      "2024-07-29 11:27:12,266 |   INFO   | Removed wall–wall interactions.\n"
     ]
    }
   ],
   "source": [
    "from itertools import combinations\n",
    "\n",
    "from mdcraft.openmm.system import register_particles\n",
    "\n",
    "q_scaled = unit.elementary_charge / np.sqrt(varepsilon_r)\n",
    "\n",
    "# Register polyanions to pair potentials\n",
    "for _ in range(M):\n",
    "    chain = topology.addChain()\n",
    "    register_particles(\n",
    "        system, topology, N_p, scales[\"mass\"],\n",
    "        chain=chain,\n",
    "        element=element_a,\n",
    "        name=\"PAN\",\n",
    "        nbforce=pair_elec_fourier,\n",
    "        charge=-q_scaled,\n",
    "        cnbforces={pair_elec_real: (-q_scaled, 0), pair_gauss: (0,)}\n",
    "    )\n",
    "logging.info(f\"Registered {M:,} polyanion(s) with {N_p:,} monomer(s) \"\n",
    "                \"to the force field.\")\n",
    "\n",
    "# Register polyanion bonds to bond potential and remove 1-2 interactions\n",
    "if x_p > 0:\n",
    "    atoms = list(topology.atoms())\n",
    "    for m in range(M):\n",
    "        for n in range(N_p - 1):\n",
    "            i = m * N_p + n\n",
    "            j = i + 1\n",
    "            topology.addBond(atoms[i], atoms[j])\n",
    "            bond_harm.addBond(i, j, b, k)\n",
    "            pair_elec_real.addExclusion(i, j)\n",
    "            pair_elec_fourier.addException(i, j, 0, 0, 0)\n",
    "            pair_gauss.addExclusion(i, j)\n",
    "    logging.info(f\"Registered {topology.getNumBonds():,} bond(s) to \"\n",
    "                    \"the force field.\")\n",
    "\n",
    "# Register counterions to pair potentials\n",
    "register_particles(\n",
    "    system, topology, N_c, scales[\"mass\"],\n",
    "    element=element_c,\n",
    "    name=\"CAT\",\n",
    "    nbforce=pair_elec_fourier,\n",
    "    charge=q_scaled,\n",
    "    cnbforces={pair_elec_real: (q_scaled, 0), pair_gauss: (0,)}\n",
    ")\n",
    "logging.info(f\"Registered {N_c:,} counterion(s) to the simulation.\")\n",
    "\n",
    "# Register solvent particles to pair potentials\n",
    "register_particles(\n",
    "    system, topology, N_s, scales[\"mass\"],\n",
    "    element=element_s,\n",
    "    name=\"SOL\",\n",
    "    resname=\"SOL\",\n",
    "    nbforce=pair_elec_fourier,\n",
    "    cnbforces={pair_elec_real: (0, 0), pair_gauss: (0,)}\n",
    ")\n",
    "logging.info(f\"Registered {N_s:,} solvent particle(s) to the simulation.\")\n",
    "\n",
    "# Determine positions and number of wall particles\n",
    "positions_wall = np.concatenate((\n",
    "    positions_wall,\n",
    "    positions_wall + np.array(\n",
    "        (0, 0, dimensions[2].value_in_unit(unit.nanometer))\n",
    "    ) * unit.nanometer\n",
    "))\n",
    "N_wall = positions_wall.shape[0]\n",
    "\n",
    "# Register wall particles to pair potentials\n",
    "for name in (\"LWL\", \"RWL\"):\n",
    "    register_particles(\n",
    "        system, topology, N_wall // 2, 0,\n",
    "        element=element_w,\n",
    "        name=name,\n",
    "        nbforce=pair_elec_fourier,\n",
    "        cnbforces={pair_elec_real: (0, 1), pair_gauss: (1,)}\n",
    "    )\n",
    "logging.info(f\"Registered {N_wall:,} wall particles to the force field.\")\n",
    "\n",
    "# Remove wall–wall interactions\n",
    "wall_indices = range(N, N + N_wall)\n",
    "for i, j in combinations(wall_indices, 2):\n",
    "    pair_elec_real.addExclusion(i, j)\n",
    "    pair_elec_fourier.addException(i, j, 0, 0, 0)\n",
    "    pair_gauss.addExclusion(i, j)\n",
    "logging.info(\"Removed wall–wall interactions.\")\n"
   ]
  },
  {
   "cell_type": "markdown",
   "metadata": {},
   "source": [
    "*The rest of this guide is to be finished at a later date.*"
   ]
  }
 ],
 "metadata": {
  "kernelspec": {
   "display_name": "research",
   "language": "python",
   "name": "python3"
  },
  "language_info": {
   "codemirror_mode": {
    "name": "ipython",
    "version": 3
   },
   "file_extension": ".py",
   "mimetype": "text/x-python",
   "name": "python",
   "nbconvert_exporter": "python",
   "pygments_lexer": "ipython3",
   "version": "3.11.9"
  }
 },
 "nbformat": 4,
 "nbformat_minor": 2
}
